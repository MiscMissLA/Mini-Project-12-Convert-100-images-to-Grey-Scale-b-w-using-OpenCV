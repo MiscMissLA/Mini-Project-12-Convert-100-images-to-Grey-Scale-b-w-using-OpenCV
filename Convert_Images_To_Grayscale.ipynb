{
  "nbformat": 4,
  "nbformat_minor": 0,
  "metadata": {
    "colab": {
      "provenance": [],
      "authorship_tag": "ABX9TyP1HB2HCGLvF4gxPrNr34wX",
      "include_colab_link": true
    },
    "kernelspec": {
      "name": "python3",
      "display_name": "Python 3"
    },
    "language_info": {
      "name": "python"
    }
  },
  "cells": [
    {
      "cell_type": "markdown",
      "metadata": {
        "id": "view-in-github",
        "colab_type": "text"
      },
      "source": [
        "<a href=\"https://colab.research.google.com/github/MiscMissLA/Mini-Project-12-Convert-100-images-to-Grey-Scale-b-w-using-OpenCV/blob/main/Convert_Images_To_Grayscale.ipynb\" target=\"_parent\"><img src=\"https://colab.research.google.com/assets/colab-badge.svg\" alt=\"Open In Colab\"/></a>"
      ]
    },
    {
      "cell_type": "code",
      "source": [
        "pip install icrawler\n"
      ],
      "metadata": {
        "colab": {
          "base_uri": "https://localhost:8080/"
        },
        "id": "rEMER1rr4J3Q",
        "outputId": "c99b2a64-5910-4405-e95e-acb888139370"
      },
      "execution_count": 3,
      "outputs": [
        {
          "output_type": "stream",
          "name": "stdout",
          "text": [
            "Collecting icrawler\n",
            "  Downloading icrawler-0.6.10-py3-none-any.whl.metadata (6.2 kB)\n",
            "Requirement already satisfied: beautifulsoup4 in /usr/local/lib/python3.11/dist-packages (from icrawler) (4.13.4)\n",
            "Collecting bs4 (from icrawler)\n",
            "  Downloading bs4-0.0.2-py2.py3-none-any.whl.metadata (411 bytes)\n",
            "Requirement already satisfied: lxml in /usr/local/lib/python3.11/dist-packages (from icrawler) (5.4.0)\n",
            "Requirement already satisfied: pillow in /usr/local/lib/python3.11/dist-packages (from icrawler) (11.2.1)\n",
            "Requirement already satisfied: pyyaml in /usr/local/lib/python3.11/dist-packages (from icrawler) (6.0.2)\n",
            "Requirement already satisfied: requests in /usr/local/lib/python3.11/dist-packages (from icrawler) (2.32.3)\n",
            "Requirement already satisfied: six in /usr/local/lib/python3.11/dist-packages (from icrawler) (1.17.0)\n",
            "Requirement already satisfied: soupsieve>1.2 in /usr/local/lib/python3.11/dist-packages (from beautifulsoup4->icrawler) (2.7)\n",
            "Requirement already satisfied: typing-extensions>=4.0.0 in /usr/local/lib/python3.11/dist-packages (from beautifulsoup4->icrawler) (4.14.1)\n",
            "Requirement already satisfied: charset-normalizer<4,>=2 in /usr/local/lib/python3.11/dist-packages (from requests->icrawler) (3.4.2)\n",
            "Requirement already satisfied: idna<4,>=2.5 in /usr/local/lib/python3.11/dist-packages (from requests->icrawler) (3.10)\n",
            "Requirement already satisfied: urllib3<3,>=1.21.1 in /usr/local/lib/python3.11/dist-packages (from requests->icrawler) (2.4.0)\n",
            "Requirement already satisfied: certifi>=2017.4.17 in /usr/local/lib/python3.11/dist-packages (from requests->icrawler) (2025.7.14)\n",
            "Downloading icrawler-0.6.10-py3-none-any.whl (36 kB)\n",
            "Downloading bs4-0.0.2-py2.py3-none-any.whl (1.2 kB)\n",
            "Installing collected packages: bs4, icrawler\n",
            "Successfully installed bs4-0.0.2 icrawler-0.6.10\n"
          ]
        }
      ]
    },
    {
      "cell_type": "code",
      "source": [
        "import os\n",
        "from icrawler.builtin import BingImageCrawler\n",
        "\n",
        "# Ask user for input\n",
        "search_term = input(\"Enter the image keyword to download (e.g. dogs, space, car): \").strip()\n",
        "\n",
        "# Create folder for the images\n",
        "output_dir = f\"downloaded_images_{search_term.replace(' ', '_')}\"\n",
        "os.makedirs(output_dir, exist_ok=True)\n",
        "\n",
        "# Set up the crawler\n",
        "crawler = BingImageCrawler(storage={'root_dir': output_dir})\n",
        "\n",
        "# Start downloading 100 images\n",
        "crawler.crawl(keyword=search_term, max_num=100)\n",
        "\n",
        "# Rename all images to 1.jpg, 2.jpg, ...\n",
        "for idx, filename in enumerate(os.listdir(output_dir), start=1):\n",
        "    file_path = os.path.join(output_dir, filename)\n",
        "    ext = os.path.splitext(filename)[1].lower()\n",
        "\n",
        "    if ext in ['.jpg', '.jpeg', '.png']:\n",
        "        new_name = os.path.join(output_dir, f\"{idx}.jpg\")\n",
        "        os.rename(file_path, new_name)\n",
        "\n",
        "print(f\"\\n✅ Downloaded and renamed 100 images to folder: {output_dir}\")\n"
      ],
      "metadata": {
        "colab": {
          "base_uri": "https://localhost:8080/"
        },
        "id": "ERdKJGgu4PMZ",
        "outputId": "11c6269d-9149-4415-fbb6-f25fdd474a2c"
      },
      "execution_count": 4,
      "outputs": [
        {
          "name": "stdout",
          "output_type": "stream",
          "text": [
            "Enter the image keyword to download (e.g. dogs, space, car): flowers\n"
          ]
        },
        {
          "output_type": "stream",
          "name": "stderr",
          "text": [
            "ERROR:downloader:Response status code 404, file https://i2.wp.com/youmeandtrends.com/wp-content/uploads/2015/11/best-hd-beautiful-flowers-images.jpg\n",
            "ERROR:downloader:Exception caught when downloading file https://www.usda.gov/sites/default/files/nass-assorted-bouquet-data-report-blog-053122.jpg, error: HTTPSConnectionPool(host='www.usda.gov', port=443): Read timed out. (read timeout=5), remaining retry times: 2\n",
            "ERROR:downloader:Exception caught when downloading file https://www.usda.gov/sites/default/files/nass-assorted-bouquet-data-report-blog-053122.jpg, error: HTTPSConnectionPool(host='www.usda.gov', port=443): Read timed out. (read timeout=5), remaining retry times: 1\n",
            "ERROR:downloader:Exception caught when downloading file https://www.usda.gov/sites/default/files/nass-assorted-bouquet-data-report-blog-053122.jpg, error: HTTPSConnectionPool(host='www.usda.gov', port=443): Read timed out. (read timeout=5), remaining retry times: 0\n",
            "ERROR:downloader:Response status code 403, file https://www.rd.com/wp-content/uploads/2022/11/RD-flowering-house-plants-GettyImages-1361899895-JVedit.jpg\n",
            "ERROR:downloader:Response status code 404, file http://bloemist-fleurina.nl/wp-content/uploads/2017/03/rose-bouquet-945329_1920-1024x768.jpg\n",
            "ERROR:downloader:Response status code 451, file http://blog.timesunion.com/savings/files/2014/02/flowers.jpg\n",
            "ERROR:downloader:Response status code 403, file https://c.pxhere.com/photos/0d/f6/beautiful_flowers_bed_of_flowers_bunch_of_flowers_bunches_of_flowers_field_of_flowers_flora_floral_flower-1174042.jpg\n",
            "ERROR:downloader:Response status code 403, file https://c.pxhere.com/photos/53/cb/daisy_summer_flower_chamomile_petals_white_flowers_white_petal-1073025.jpg\n",
            "ERROR:downloader:Response status code 403, file https://garden.org/pics/2013-07-14/clintbrown/e21cec.jpg\n"
          ]
        },
        {
          "output_type": "stream",
          "name": "stdout",
          "text": [
            "\n",
            "✅ Downloaded and renamed 100 images to folder: downloaded_images_flowers\n"
          ]
        }
      ]
    },
    {
      "cell_type": "code",
      "execution_count": 6,
      "metadata": {
        "colab": {
          "base_uri": "https://localhost:8080/"
        },
        "id": "oDrSwWse3zYH",
        "outputId": "dffa39ee-9bb6-454f-9a2e-b2bcf0f681c5"
      },
      "outputs": [
        {
          "output_type": "stream",
          "name": "stdout",
          "text": [
            "[1] Converted: 9.jpg → output_images/gray_9.jpg\n",
            "[2] Converted: 41.jpg → output_images/gray_41.jpg\n",
            "[3] Converted: 55.jpg → output_images/gray_55.jpg\n",
            "[4] Converted: 61.jpg → output_images/gray_61.jpg\n",
            "[5] Converted: 32.jpg → output_images/gray_32.jpg\n",
            "[6] Converted: 40.jpg → output_images/gray_40.jpg\n",
            "[7] Converted: 11.jpg → output_images/gray_11.jpg\n",
            "[8] Converted: 31.jpg → output_images/gray_31.jpg\n",
            "[9] Converted: 39.jpg → output_images/gray_39.jpg\n",
            "[10] Converted: 28.jpg → output_images/gray_28.jpg\n",
            "[11] Converted: 2.jpg → output_images/gray_2.jpg\n",
            "[12] Converted: 58.jpg → output_images/gray_58.jpg\n",
            "[13] Converted: 50.jpg → output_images/gray_50.jpg\n",
            "[14] Converted: 24.jpg → output_images/gray_24.jpg\n",
            "[15] Converted: 65.jpg → output_images/gray_65.jpg\n",
            "[16] Converted: 10.jpg → output_images/gray_10.jpg\n",
            "[17] Converted: 29.jpg → output_images/gray_29.jpg\n",
            "[18] Converted: 20.jpg → output_images/gray_20.jpg\n",
            "[19] Converted: 14.jpg → output_images/gray_14.jpg\n",
            "[20] Converted: 30.jpg → output_images/gray_30.jpg\n",
            "[21] Converted: 25.jpg → output_images/gray_25.jpg\n",
            "[22] Converted: 19.jpg → output_images/gray_19.jpg\n",
            "[23] Converted: 53.jpg → output_images/gray_53.jpg\n",
            "[24] Converted: 12.jpg → output_images/gray_12.jpg\n",
            "[25] Converted: 62.jpg → output_images/gray_62.jpg\n",
            "[26] Converted: 43.jpg → output_images/gray_43.jpg\n",
            "[27] Converted: 42.jpg → output_images/gray_42.jpg\n",
            "[28] Converted: 27.jpg → output_images/gray_27.jpg\n",
            "[29] Converted: 15.jpg → output_images/gray_15.jpg\n",
            "[30] Converted: 37.jpg → output_images/gray_37.jpg\n",
            "[31] Converted: 52.jpg → output_images/gray_52.jpg\n",
            "[32] Converted: 35.jpg → output_images/gray_35.jpg\n",
            "[33] Converted: 64.jpg → output_images/gray_64.jpg\n",
            "[34] Converted: 26.jpg → output_images/gray_26.jpg\n",
            "[35] Converted: 49.jpg → output_images/gray_49.jpg\n",
            "[36] Converted: 17.jpg → output_images/gray_17.jpg\n",
            "[37] Converted: 16.jpg → output_images/gray_16.jpg\n",
            "[38] Converted: 57.jpg → output_images/gray_57.jpg\n",
            "[39] Converted: 6.jpg → output_images/gray_6.jpg\n",
            "[40] Converted: 44.jpg → output_images/gray_44.jpg\n",
            "[41] Converted: 21.jpg → output_images/gray_21.jpg\n",
            "[42] Converted: 13.jpg → output_images/gray_13.jpg\n",
            "[43] Converted: 54.jpg → output_images/gray_54.jpg\n",
            "[44] Converted: 63.jpg → output_images/gray_63.jpg\n",
            "[45] Converted: 56.jpg → output_images/gray_56.jpg\n",
            "[46] Converted: 3.jpg → output_images/gray_3.jpg\n",
            "[47] Converted: 45.jpg → output_images/gray_45.jpg\n",
            "[48] Converted: 34.jpg → output_images/gray_34.jpg\n",
            "[49] Converted: 7.jpg → output_images/gray_7.jpg\n",
            "[50] Converted: 36.jpg → output_images/gray_36.jpg\n",
            "[51] Converted: 18.jpg → output_images/gray_18.jpg\n",
            "[52] Converted: 46.jpg → output_images/gray_46.jpg\n",
            "[53] Converted: 8.jpg → output_images/gray_8.jpg\n",
            "[54] Converted: 23.jpg → output_images/gray_23.jpg\n",
            "[55] Converted: 51.jpg → output_images/gray_51.jpg\n",
            "[56] Converted: 5.jpg → output_images/gray_5.jpg\n",
            "[57] Converted: 4.jpg → output_images/gray_4.jpg\n",
            "[58] Converted: 60.jpg → output_images/gray_60.jpg\n",
            "[59] Converted: 48.jpg → output_images/gray_48.jpg\n",
            "[60] Converted: 38.jpg → output_images/gray_38.jpg\n",
            "[61] Converted: 22.jpg → output_images/gray_22.jpg\n",
            "[62] Converted: 59.jpg → output_images/gray_59.jpg\n",
            "[63] Converted: 47.jpg → output_images/gray_47.jpg\n",
            "[64] Converted: 1.jpg → output_images/gray_1.jpg\n",
            "[65] Converted: 33.jpg → output_images/gray_33.jpg\n",
            "\n",
            "✅ Done. 65 images converted to grayscale.\n"
          ]
        }
      ],
      "source": [
        "import cv2\n",
        "import os\n",
        "\n",
        "# Paths\n",
        "input_folder = \"/content/downloaded_images_flowers\"\n",
        "output_folder = \"output_images\"\n",
        "\n",
        "# Create output folder if it doesn't exist\n",
        "os.makedirs(output_folder, exist_ok=True)\n",
        "\n",
        "# Supported image extensions\n",
        "supported_ext = ['.jpg', '.jpeg', '.png', '.bmp', '.tiff']\n",
        "\n",
        "# Counter for processed images\n",
        "count = 0\n",
        "\n",
        "# Process each file in the input directory\n",
        "for filename in os.listdir(input_folder):\n",
        "    file_path = os.path.join(input_folder, filename)\n",
        "\n",
        "    # Check for valid image extension\n",
        "    if os.path.splitext(filename)[1].lower() in supported_ext:\n",
        "        try:\n",
        "            # Read the image\n",
        "            img = cv2.imread(file_path)\n",
        "\n",
        "            # Convert to grayscale\n",
        "            gray = cv2.cvtColor(img, cv2.COLOR_BGR2GRAY)\n",
        "\n",
        "            # Save the gray image\n",
        "            output_path = os.path.join(output_folder, f\"gray_{filename}\")\n",
        "            cv2.imwrite(output_path, gray)\n",
        "\n",
        "            count += 1\n",
        "            print(f\"[{count}] Converted: {filename} → {output_path}\")\n",
        "        except Exception as e:\n",
        "            print(f\"Error processing {filename}: {e}\")\n",
        "\n",
        "print(f\"\\n✅ Done. {count} images converted to grayscale.\")\n"
      ]
    }
  ]
}